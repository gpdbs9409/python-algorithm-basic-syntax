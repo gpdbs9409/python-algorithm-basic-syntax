{
  "nbformat": 4,
  "nbformat_minor": 0,
  "metadata": {
    "colab": {
      "provenance": [],
      "authorship_tag": "ABX9TyOpmoEII+CO8P0ZPABqHicx",
      "include_colab_link": true
    },
    "kernelspec": {
      "name": "python3",
      "display_name": "Python 3"
    },
    "language_info": {
      "name": "python"
    }
  },
  "cells": [
    {
      "cell_type": "markdown",
      "metadata": {
        "id": "view-in-github",
        "colab_type": "text"
      },
      "source": [
        "<a href=\"https://colab.research.google.com/github/gpdbs9409/python-algorithm-basic-syntax/blob/main/%EB%8D%B8%ED%83%80%EB%A5%BC_%EC%9D%B4%EC%9A%A9%ED%95%9C_%EC%9D%B4%EC%B0%A8%EC%9B%90_%EB%B0%B0%EC%97%B4.ipynb\" target=\"_parent\"><img src=\"https://colab.research.google.com/assets/colab-badge.svg\" alt=\"Open In Colab\"/></a>"
      ]
    },
    {
      "cell_type": "code",
      "execution_count": null,
      "metadata": {
        "id": "tynzwX44N2BU"
      },
      "outputs": [],
      "source": [
        "import random\n",
        "\n",
        "arr=[[0 for _ in range(5)]for _ in range(5)]\n",
        "\n",
        "def isSafe(y,x): #4*4배열이라고 가정했을 때 범위를 벗어나지 않게 해주는 함수.\n",
        "\tif 0<=x<4 and 0<=y<4:\n",
        "    return True\n",
        "  else:\n",
        "    return False\n",
        "\n",
        "for i in range(5):\n",
        "\tfor j in range(5):\n",
        "    \tarr[i][j]=random.randint(0,9)\n",
        "\n",
        "\n",
        "#방향 정의, 시계방향으로 돌리자. 우-하-좌-상\n",
        "dx=[1,0,-1,0]\n",
        "dy=[0,-1,0,1]\n",
        "\n",
        "for y in range(5):\n",
        "\tfor x in range(5):\n",
        "      for dir in range(4):\n",
        "          newX=x+dx[dir]\n",
        "          newY=y+dy[dir]\n",
        "\t\t  if isSafe(newY,nexX): print arr[newX][newY]import random\n",
        "\n",
        "arr=[[0 for _ in range(5)]for _ in range(5)]\n",
        "\n",
        "def isSafe(y,x): #4*4배열이라고 가정했을 때 범위를 벗어나지 않게 해주는 함수.\n",
        "\tif 0<=x<4 and 0<=y<4:return True\n",
        "  else:return False\n",
        "\n",
        "for i in range(5):\n",
        "\tfor j in range(5):\n",
        "    \tarr[i][j]=random.randint(0,9)\n",
        "\n",
        "\n",
        "#방향 정의, 시계방향으로 돌리자. 우-하-좌-상\n",
        "dx=[1,0,-1,0]\n",
        "dy=[0,-1,0,1]\n",
        "\n",
        "for y in range(5):\n",
        "\tfor x in range(5):\n",
        "      for dir in range(4):\n",
        "          newX=x+dx[dir]\n",
        "          newY=y+dy[dir]\n",
        "\t\t  if isSafe(newY,nexX): print arr[newX][newY]"
      ]
    }
  ]
}