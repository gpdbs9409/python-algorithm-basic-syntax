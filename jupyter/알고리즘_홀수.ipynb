{
 "cells": [
  {
   "cell_type": "code",
   "execution_count": 9,
   "id": "61fcbd20-f86d-4ca5-ab94-57f9c4c77afb",
   "metadata": {},
   "outputs": [
    {
     "name": "stdin",
     "output_type": "stream",
     "text": [
      " 5\n"
     ]
    }
   ],
   "source": [
    "T = int(input())\n",
    "arr = [[0] * 3 for _ in range(T)]\n",
    "notEven=[[0]*3 for _ in range(T)]"
   ]
  },
  {
   "cell_type": "code",
   "execution_count": 12,
   "id": "0837278d-e17b-4b18-9e8d-428d2da87a61",
   "metadata": {},
   "outputs": [
    {
     "name": "stdin",
     "output_type": "stream",
     "text": [
      " 6\n",
      " 64\n",
      " 6\n",
      " 6\n",
      " 6\n",
      " 6\n",
      " 6\n",
      " 6\n",
      " 6\n",
      " 6\n",
      " 6\n",
      " 6\n",
      " 6\n",
      " 6\n",
      " 6\n",
      " 6\n",
      " 6\n",
      " 6\n",
      " 6\n"
     ]
    },
    {
     "name": "stdout",
     "output_type": "stream",
     "text": [
      "[[], [], [], [], [], []]\n"
     ]
    }
   ],
   "source": [
    "T = int(input())  # 테스트 케이스 수 입력\n",
    "arr = [[0] * 3 for _ in range(T)]  # 2차원 리스트 초기화 (각 테스트 케이스마다 3개의 값을 저장)\n",
    "notEven = [[] for _ in range(T)]  # 각 테스트 케이스에서 홀수 저장 리스트\n",
    "\n",
    "# 입력 처리\n",
    "for test_case in range(T):  # 0부터 T-1까지 반복\n",
    "    for number in range(3):  # 각 테스트 케이스에서 3개의 값 입력\n",
    "        arr[test_case][number] = int(input())\n",
    "\n",
    "# 홀수 필터링\n",
    "for test_case in range(T):  # 0부터 T-1까지 반복\n",
    "    for number in range(3):  # 각 테스트 케이스의 값 확인\n",
    "        if arr[test_case][number] % 2 == 1:  # 홀수인지 확인\n",
    "            notEven[test_case].append(arr[test_case][number])  # 값 추가\n",
    "\n",
    "# 결과 출력\n",
    "print(notEven)\n"
   ]
  },
  {
   "cell_type": "code",
   "execution_count": null,
   "id": "347a2d3c-d243-435d-a2b2-bbd15181a519",
   "metadata": {},
   "outputs": [],
   "source": [
    "6\n",
    "5"
   ]
  }
 ],
 "metadata": {
  "kernelspec": {
   "display_name": "Python 3 (ipykernel)",
   "language": "python",
   "name": "python3"
  },
  "language_info": {
   "codemirror_mode": {
    "name": "ipython",
    "version": 3
   },
   "file_extension": ".py",
   "mimetype": "text/x-python",
   "name": "python",
   "nbconvert_exporter": "python",
   "pygments_lexer": "ipython3",
   "version": "3.13.0"
  }
 },
 "nbformat": 4,
 "nbformat_minor": 5
}
