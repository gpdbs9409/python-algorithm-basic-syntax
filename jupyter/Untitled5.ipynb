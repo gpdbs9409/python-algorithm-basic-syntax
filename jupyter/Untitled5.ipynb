{
 "cells": [
  {
   "cell_type": "code",
   "execution_count": 6,
   "id": "b886ae68-124a-4bc4-b37b-833c2ee3694a",
   "metadata": {},
   "outputs": [
    {
     "ename": "SyntaxError",
     "evalue": "invalid syntax (4028863109.py, line 9)",
     "output_type": "error",
     "traceback": [
      "\u001b[1;36m  Cell \u001b[1;32mIn[6], line 9\u001b[1;36m\u001b[0m\n\u001b[1;33m    arr=[random.randint(0,9) for _ in range(4)] [random.randint(0,9) for _ in range(4)]\u001b[0m\n\u001b[1;37m                                                                     ^\u001b[0m\n\u001b[1;31mSyntaxError\u001b[0m\u001b[1;31m:\u001b[0m invalid syntax\n"
     ]
    }
   ],
   "source": [
    "import random\n",
    "\n",
    "def isSafe(y,x):  # 4*4 배열이라고 가정했을 때 범위를 벗어나지 않게 해주는 함수\n",
    "    if 0 <= x < 4 and 0 <= y < 4:\n",
    "        return True\n",
    "    else:\n",
    "        return False\n",
    "\n",
    "arr=[random.randint(0,9) for _ in range(4)] [random.randint(0,9) for _ in range(4)]\n",
    "print(arr)\n",
    "\n",
    "#방향 정의, 시계방향으로 돌리자. 우-하-좌-상\n",
    "dx=[1,0,-1,0]\n",
    "dy=[0,-1,0,1]\n",
    "\n",
    "for y in range(5):\n",
    "    for x in range(5):\n",
    "        for dir in range(4):\n",
    "            newX=x+dx[dir]\n",
    "            newY=y+dy[dir]\n",
    "            if isSafe(newY,newX):\n",
    "                print(arr[newX][newY])"
   ]
  },
  {
   "cell_type": "code",
   "execution_count": null,
   "id": "cb0f2956-be6f-4628-88d5-10eec352500f",
   "metadata": {},
   "outputs": [],
   "source": []
  }
 ],
 "metadata": {
  "kernelspec": {
   "display_name": "Python 3 (ipykernel)",
   "language": "python",
   "name": "python3"
  },
  "language_info": {
   "codemirror_mode": {
    "name": "ipython",
    "version": 3
   },
   "file_extension": ".py",
   "mimetype": "text/x-python",
   "name": "python",
   "nbconvert_exporter": "python",
   "pygments_lexer": "ipython3",
   "version": "3.13.0"
  }
 },
 "nbformat": 4,
 "nbformat_minor": 5
}
